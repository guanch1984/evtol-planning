{
 "cells": [
  {
   "cell_type": "code",
   "execution_count": 5,
   "metadata": {},
   "outputs": [
    {
     "name": "stdout",
     "output_type": "stream",
     "text": [
      "[[22, 2398, 23418], [4, 1948, 26239], [18, 2994, 36338], [3, 1210, 26221], [14, 2301, 25531], [12, 2317, 23761], [19, 1516, 23336], [5, 1469, 29907], [13, 2925, 33054], [49, 2224, 20626]]\n",
      "\n",
      "n_Vn_0 : 0\n",
      "n_Vn_1 : 3\n",
      "n_Vn_2 : 0\n",
      "n_Vn_3 : 1\n",
      "n_Vn_4 : 0\n",
      "n_Vn_5 : 0\n",
      "n_Vn_6 : 0\n",
      "n_Vn_7 : 0\n",
      "n_Vn_8 : 0\n",
      "n_Vn_9 : 0\n",
      "n_eVTOL_0 : 60\n",
      "n_eVTOL_1 : 49\n",
      "n_eVTOL_2 : 75\n",
      "n_eVTOL_3 : 31\n",
      "n_eVTOL_4 : 58\n",
      "n_eVTOL_5 : 58\n",
      "n_eVTOL_6 : 38\n",
      "n_eVTOL_7 : 37\n",
      "n_eVTOL_8 : 74\n",
      "n_eVTOL_9 : 56\n",
      "\n",
      "Total profit = $34184.42\n"
     ]
    }
   ],
   "source": [
    "from pulp import *\n",
    "import pandas as pd\n",
    "\n",
    "data = pd.read_csv(\"data/cluster.csv\", header=0)\n",
    "\n",
    "\n",
    "# only existing vertiport and total profit columns\n",
    "clusterName = data['label']\n",
    "dataTable = data.iloc[:, -3:].values.tolist()\n",
    "print(dataTable)\n",
    "\n",
    "n_Ve = dict([(i, n[0]) for i, n in enumerate(dataTable)])\n",
    "total_commute = dict([(i, n[1]) for i, n in enumerate(dataTable)])\n",
    "total_prof = dict([(i, n[2]) for i, n in enumerate(dataTable)])\n",
    "\n",
    "prob = LpProblem('MaxProfit', LpMinimize)\n",
    "\n",
    "# number of existing vertiport\n",
    "n_eVTOL_Vars = LpVariable.dicts('n_eVTOL', clusterName, 0, cat='Integer')\n",
    "# number of new vertiport\n",
    "n_Vn_Vars = LpVariable.dicts('n_Vn', clusterName, 0, cat='Integer')\n",
    "\n",
    "n_round = 10\n",
    "c_eVTOL = 1000000.0 ## updated to 1 million\n",
    "c_Ve = 200000.0\n",
    "c_Vn = 500000.0\n",
    "cap_eVTOL = 4.0\n",
    "cap_port = 8.0\n",
    "depreciation_1 = 1/365\n",
    "depreciation_10 = 1/365/10\n",
    "depreciation_20 = 1/365/20\n",
    "\n",
    "# Objection function\n",
    "prob += lpSum([- total_prof[i] + c_eVTOL * n_eVTOL_Vars[i]*depreciation_10 + c_Ve * n_Ve[i]*depreciation_1 + c_Vn *\n",
    "               n_Vn_Vars[i] * depreciation_20 for i in clusterName]), 'Total Profit'\n",
    "\n",
    "# Constraint\n",
    "for i in clusterName:\n",
    "    prob += cap_eVTOL * n_eVTOL_Vars[i] * n_round >= total_commute[i]\n",
    "    prob += cap_port * (n_Ve[i] + n_Vn_Vars[i]) >= n_eVTOL_Vars[i]\n",
    "\n",
    "prob.solve()\n",
    "\n",
    "print()\n",
    "\n",
    "for var in prob.variables():\n",
    "    print(str(var) + ' : ' + str(var.varValue))\n",
    "print()\n",
    "\n",
    "print(\"Total profit = $%.2f\" % value(-prob.objective))\n",
    "# res_dict = {'new_vertiport': [var.varValue[:10] for var in prob.variables()],\n",
    "#             'eVTOL#': [var.varValue[10:] for var in prob.variables()]}\n",
    "# res = pd.DataFrame(res_dict)\n",
    "res = [var.varValue for var in prob.variables()]\n",
    "res_df = pd.DataFrame(columns=['new_vertiport', 'eVTOL#'])\n",
    "res_df['new_vertiport'] = res[:10]\n",
    "res_df['eVTOL#'] = res[10:]\n",
    "#res_df.to_csv('data/optimization_result.csv', index=False)"
   ]
  },
  {
   "cell_type": "code",
   "execution_count": 8,
   "metadata": {},
   "outputs": [
    {
     "data": {
      "text/plain": [
       "536"
      ]
     },
     "execution_count": 8,
     "metadata": {},
     "output_type": "execute_result"
    }
   ],
   "source": [
    "res_df['eVTOL#'].sum()"
   ]
  },
  {
   "cell_type": "code",
   "execution_count": 9,
   "metadata": {},
   "outputs": [
    {
     "data": {
      "text/html": [
       "<div>\n",
       "<style scoped>\n",
       "    .dataframe tbody tr th:only-of-type {\n",
       "        vertical-align: middle;\n",
       "    }\n",
       "\n",
       "    .dataframe tbody tr th {\n",
       "        vertical-align: top;\n",
       "    }\n",
       "\n",
       "    .dataframe thead th {\n",
       "        text-align: right;\n",
       "    }\n",
       "</style>\n",
       "<table border=\"1\" class=\"dataframe\">\n",
       "  <thead>\n",
       "    <tr style=\"text-align: right;\">\n",
       "      <th></th>\n",
       "      <th>new_vertiport</th>\n",
       "      <th>eVTOL#</th>\n",
       "    </tr>\n",
       "  </thead>\n",
       "  <tbody>\n",
       "    <tr>\n",
       "      <th>0</th>\n",
       "      <td>0</td>\n",
       "      <td>60</td>\n",
       "    </tr>\n",
       "    <tr>\n",
       "      <th>1</th>\n",
       "      <td>3</td>\n",
       "      <td>49</td>\n",
       "    </tr>\n",
       "    <tr>\n",
       "      <th>2</th>\n",
       "      <td>0</td>\n",
       "      <td>75</td>\n",
       "    </tr>\n",
       "    <tr>\n",
       "      <th>3</th>\n",
       "      <td>1</td>\n",
       "      <td>31</td>\n",
       "    </tr>\n",
       "    <tr>\n",
       "      <th>4</th>\n",
       "      <td>0</td>\n",
       "      <td>58</td>\n",
       "    </tr>\n",
       "    <tr>\n",
       "      <th>5</th>\n",
       "      <td>0</td>\n",
       "      <td>58</td>\n",
       "    </tr>\n",
       "    <tr>\n",
       "      <th>6</th>\n",
       "      <td>0</td>\n",
       "      <td>38</td>\n",
       "    </tr>\n",
       "    <tr>\n",
       "      <th>7</th>\n",
       "      <td>0</td>\n",
       "      <td>37</td>\n",
       "    </tr>\n",
       "    <tr>\n",
       "      <th>8</th>\n",
       "      <td>0</td>\n",
       "      <td>74</td>\n",
       "    </tr>\n",
       "    <tr>\n",
       "      <th>9</th>\n",
       "      <td>0</td>\n",
       "      <td>56</td>\n",
       "    </tr>\n",
       "  </tbody>\n",
       "</table>\n",
       "</div>"
      ],
      "text/plain": [
       "   new_vertiport  eVTOL#\n",
       "0              0      60\n",
       "1              3      49\n",
       "2              0      75\n",
       "3              1      31\n",
       "4              0      58\n",
       "5              0      58\n",
       "6              0      38\n",
       "7              0      37\n",
       "8              0      74\n",
       "9              0      56"
      ]
     },
     "execution_count": 9,
     "metadata": {},
     "output_type": "execute_result"
    }
   ],
   "source": [
    "res_df"
   ]
  },
  {
   "cell_type": "code",
   "execution_count": 11,
   "metadata": {},
   "outputs": [
    {
     "data": {
      "text/plain": [
       "12477314.999999994"
      ]
     },
     "execution_count": 11,
     "metadata": {},
     "output_type": "execute_result"
    }
   ],
   "source": [
    "value(-prob.objective) * 365"
   ]
  },
  {
   "cell_type": "code",
   "execution_count": 12,
   "metadata": {},
   "outputs": [
    {
     "data": {
      "text/plain": [
       "MaxProfit:\n",
       "MINIMIZE\n",
       "68.4931506849315*n_Vn_0 + 68.4931506849315*n_Vn_1 + 68.4931506849315*n_Vn_2 + 68.4931506849315*n_Vn_3 + 68.4931506849315*n_Vn_4 + 68.4931506849315*n_Vn_5 + 68.4931506849315*n_Vn_6 + 68.4931506849315*n_Vn_7 + 68.4931506849315*n_Vn_8 + 68.4931506849315*n_Vn_9 + 273.972602739726*n_eVTOL_0 + 273.972602739726*n_eVTOL_1 + 273.972602739726*n_eVTOL_2 + 273.972602739726*n_eVTOL_3 + 273.972602739726*n_eVTOL_4 + 273.972602739726*n_eVTOL_5 + 273.972602739726*n_eVTOL_6 + 273.972602739726*n_eVTOL_7 + 273.972602739726*n_eVTOL_8 + 273.972602739726*n_eVTOL_9 + -181307.71232876708\n",
       "SUBJECT TO\n",
       "_C1: 40 n_eVTOL_0 >= 2398\n",
       "\n",
       "_C2: 8 n_Vn_0 - n_eVTOL_0 >= -176\n",
       "\n",
       "_C3: 40 n_eVTOL_1 >= 1948\n",
       "\n",
       "_C4: 8 n_Vn_1 - n_eVTOL_1 >= -32\n",
       "\n",
       "_C5: 40 n_eVTOL_2 >= 2994\n",
       "\n",
       "_C6: 8 n_Vn_2 - n_eVTOL_2 >= -144\n",
       "\n",
       "_C7: 40 n_eVTOL_3 >= 1210\n",
       "\n",
       "_C8: 8 n_Vn_3 - n_eVTOL_3 >= -24\n",
       "\n",
       "_C9: 40 n_eVTOL_4 >= 2301\n",
       "\n",
       "_C10: 8 n_Vn_4 - n_eVTOL_4 >= -112\n",
       "\n",
       "_C11: 40 n_eVTOL_5 >= 2317\n",
       "\n",
       "_C12: 8 n_Vn_5 - n_eVTOL_5 >= -96\n",
       "\n",
       "_C13: 40 n_eVTOL_6 >= 1516\n",
       "\n",
       "_C14: 8 n_Vn_6 - n_eVTOL_6 >= -152\n",
       "\n",
       "_C15: 40 n_eVTOL_7 >= 1469\n",
       "\n",
       "_C16: 8 n_Vn_7 - n_eVTOL_7 >= -40\n",
       "\n",
       "_C17: 40 n_eVTOL_8 >= 2925\n",
       "\n",
       "_C18: 8 n_Vn_8 - n_eVTOL_8 >= -104\n",
       "\n",
       "_C19: 40 n_eVTOL_9 >= 2224\n",
       "\n",
       "_C20: 8 n_Vn_9 - n_eVTOL_9 >= -392\n",
       "\n",
       "VARIABLES\n",
       "0 <= n_Vn_0 Integer\n",
       "0 <= n_Vn_1 Integer\n",
       "0 <= n_Vn_2 Integer\n",
       "0 <= n_Vn_3 Integer\n",
       "0 <= n_Vn_4 Integer\n",
       "0 <= n_Vn_5 Integer\n",
       "0 <= n_Vn_6 Integer\n",
       "0 <= n_Vn_7 Integer\n",
       "0 <= n_Vn_8 Integer\n",
       "0 <= n_Vn_9 Integer\n",
       "0 <= n_eVTOL_0 Integer\n",
       "0 <= n_eVTOL_1 Integer\n",
       "0 <= n_eVTOL_2 Integer\n",
       "0 <= n_eVTOL_3 Integer\n",
       "0 <= n_eVTOL_4 Integer\n",
       "0 <= n_eVTOL_5 Integer\n",
       "0 <= n_eVTOL_6 Integer\n",
       "0 <= n_eVTOL_7 Integer\n",
       "0 <= n_eVTOL_8 Integer\n",
       "0 <= n_eVTOL_9 Integer"
      ]
     },
     "execution_count": 12,
     "metadata": {},
     "output_type": "execute_result"
    }
   ],
   "source": [
    "prob"
   ]
  },
  {
   "cell_type": "code",
   "execution_count": null,
   "metadata": {},
   "outputs": [],
   "source": []
  }
 ],
 "metadata": {
  "kernelspec": {
   "display_name": "Python 3.10.5 ('geo_env')",
   "language": "python",
   "name": "python3"
  },
  "language_info": {
   "codemirror_mode": {
    "name": "ipython",
    "version": 3
   },
   "file_extension": ".py",
   "mimetype": "text/x-python",
   "name": "python",
   "nbconvert_exporter": "python",
   "pygments_lexer": "ipython3",
   "version": "3.10.5"
  },
  "orig_nbformat": 4,
  "vscode": {
   "interpreter": {
    "hash": "01ad7aa07165cab4393e5ae9494d22346b839719e5a3850320985a3a2f057db8"
   }
  }
 },
 "nbformat": 4,
 "nbformat_minor": 2
}
